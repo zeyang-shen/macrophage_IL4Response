{
 "cells": [
  {
   "cell_type": "markdown",
   "metadata": {},
   "source": [
    "# Read sequences"
   ]
  },
  {
   "cell_type": "code",
   "execution_count": 8,
   "metadata": {},
   "outputs": [],
   "source": [
    "import re\n",
    "import numpy as np\n",
    "\n",
    "def read_fasta(fasta_fp):\n",
    "    fasta_lines = open(fasta_fp).readlines()\n",
    "    sequences_dct = dict()\n",
    "    sequences_array = []\n",
    "    if re.search(\">\",fasta_lines[0]) is None:\n",
    "        print(\"This is not a valid fasta format\")\n",
    "    for line in fasta_lines:\n",
    "        if line.strip():\n",
    "            if re.search(\">\", line):\n",
    "                sp = line.replace(\">\",\"\").replace(\"\\n\",\"\").strip()\n",
    "            else:\n",
    "                seq = line.strip(\"\\n\")\n",
    "                sequences_array.append(seq)\n",
    "                sequences_dct[sp] = seq\n",
    "    sequences_array = np.array(sequences_array)\n",
    "    return sequences_dct"
   ]
  },
  {
   "cell_type": "code",
   "execution_count": 12,
   "metadata": {
    "scrolled": true
   },
   "outputs": [
    {
     "name": "stdout",
     "output_type": "stream",
     "text": [
      "Total sequence: 21659\n"
     ]
    },
    {
     "data": {
      "text/plain": [
       "('GGGCTTCGCAGGGAGAGGGCTGCCAAGTGCCCCATGGCCCCCAGCCCAGACGGAGGCCCACTCACCCCACTTCAGCCAGGCCTCATTTTCCACCCTGGGTAGAGAGACTGCTGGCACCCTGGTTTCCCACAACCACACGACACCCTGTGTACATCCCACAGCCTGACCGTGAAGCAAGGGGTCATTAGCAGCCACAGAAGGCTGGCGATGGCCCAGGCTCCTCACCCACCAACAGTCTGGCAAAGGGATTCCCTAGCTGGGGAAAGAGAACGAGGAATACCCTCCTGCCTGAACCCAGGG',\n",
       " 1,\n",
       " 'chr5',\n",
       " '140648065',\n",
       " '140648415',\n",
       " 'chr5_140648065_140648415_C57')"
      ]
     },
     "execution_count": 12,
     "metadata": {},
     "output_type": "execute_result"
    }
   ],
   "source": [
    "peak_file = '../model_training/data/model1_IL4Enhancer/C57Bl6_IL4Enhancers.positive.fa'\n",
    "fasta_dct = read_fasta(peak_file)\n",
    "pos_data = []\n",
    "for k in fasta_dct.keys():\n",
    "    chrom, start, end = k.split('_')[:3]\n",
    "    seq = str(fasta_dct[k])\n",
    "    if len(seq) < 300:\n",
    "        print(k, len(seq))\n",
    "        continue\n",
    "    else:\n",
    "        seq = seq[len(seq)//2-150:len(seq)//2+150]\n",
    "    pos_data.append((seq, 1, chrom, start, end, k))\n",
    "print('Total sequence:', len(pos_data))\n",
    "pos_data[0]"
   ]
  },
  {
   "cell_type": "markdown",
   "metadata": {},
   "source": [
    "# Convert to one hot encode sequences"
   ]
  },
  {
   "cell_type": "code",
   "execution_count": 16,
   "metadata": {},
   "outputs": [],
   "source": [
    "import random\n",
    "from Bio import Seq\n",
    "\n",
    "def dataset2onehot(dataset, shuffle=True):\n",
    "    nucleotides = [\"A\", \"T\", \"C\", \"G\"]\n",
    "    def seq2onehot(seq):\n",
    "        onehot_list = []\n",
    "        for nuc in seq:\n",
    "            if nuc == \"N\":\n",
    "                onehot = [0.25 for _ in range(len(nucleotides))]\n",
    "                onehot_list.append(onehot)\n",
    "            else:\n",
    "                onehot = [0 for _ in range(len(nucleotides))]\n",
    "                onehot[nucleotides.index(nuc)] = 1\n",
    "                onehot_list.append(onehot)\n",
    "        return onehot_list\n",
    "    \n",
    "    def rc(seq):\n",
    "        return str((Seq.Seq(seq)).reverse_complement())\n",
    "    \n",
    "    onehot_dataset = []\n",
    "    for (seq, label, chromID, start, end, ID) in dataset:\n",
    "        onehot_dataset.append((seq2onehot(seq), label, (chromID, start, end, \"+\")))\n",
    "        onehot_dataset.append((seq2onehot(rc(seq)), label, (chromID, start, end, \"-\")))\n",
    "    \n",
    "    if shuffle:\n",
    "        random.shuffle(onehot_dataset)\n",
    "    \n",
    "    x_list, y_list, info_list = [], [], [] \n",
    "    for (x, y, info) in onehot_dataset:\n",
    "        x_list.append(x)\n",
    "        y_list.append(y)\n",
    "        info_list.append(info)\n",
    "    return np.array(x_list), np.array(y_list), info_list"
   ]
  },
  {
   "cell_type": "code",
   "execution_count": 17,
   "metadata": {},
   "outputs": [],
   "source": [
    "x_vis, y_vis, info_vis = dataset2onehot(pos_data, False)"
   ]
  },
  {
   "cell_type": "code",
   "execution_count": 18,
   "metadata": {},
   "outputs": [
    {
     "name": "stdout",
     "output_type": "stream",
     "text": [
      "(43318, 300, 4)\n",
      "(43318,)\n"
     ]
    }
   ],
   "source": [
    "print(x_vis.shape)\n",
    "print(y_vis.shape)"
   ]
  },
  {
   "cell_type": "markdown",
   "metadata": {},
   "source": [
    "# Score nucleotide importance with DeepLIFT"
   ]
  },
  {
   "cell_type": "code",
   "execution_count": 19,
   "metadata": {},
   "outputs": [
    {
     "name": "stderr",
     "output_type": "stream",
     "text": [
      "Using TensorFlow backend.\n"
     ]
    }
   ],
   "source": [
    "import keras\n",
    "from keras.models import model_from_json\n",
    "\n",
    "import deeplift\n",
    "from deeplift.layers import NonlinearMxtsMode\n",
    "import deeplift.conversion.kerasapi_conversion as kc\n",
    "from collections import OrderedDict\n",
    "from deeplift.util import get_shuffle_seq_ref_function\n",
    "from deeplift.dinuc_shuffle import dinuc_shuffle"
   ]
  },
  {
   "cell_type": "markdown",
   "metadata": {},
   "source": [
    "## Define scoring function"
   ]
  },
  {
   "cell_type": "code",
   "execution_count": 20,
   "metadata": {},
   "outputs": [
    {
     "name": "stdout",
     "output_type": "stream",
     "text": [
      "WARNING:tensorflow:From /gpfs/data01/glasslab/home/zes017/.conda/envs/zs-deeplift/lib/python3.7/site-packages/tensorflow_core/python/ops/resource_variable_ops.py:1630: calling BaseResourceVariable.__init__ (from tensorflow.python.ops.resource_variable_ops) with constraint is deprecated and will be removed in a future version.\n",
      "Instructions for updating:\n",
      "If using Keras pass *_constraint arguments to layers.\n",
      "WARNING:tensorflow:From /gpfs/data01/glasslab/home/zes017/.conda/envs/zs-deeplift/lib/python3.7/site-packages/keras/backend/tensorflow_backend.py:4070: The name tf.nn.max_pool is deprecated. Please use tf.nn.max_pool2d instead.\n",
      "\n",
      "nonlinear_mxts_mode is set to: DeepLIFT_GenomicsDefault\n",
      "WARNING:tensorflow:From /gpfs/data01/glasslab/home/zes017/.conda/envs/zs-deeplift/lib/python3.7/site-packages/deeplift/layers/core.py:207: The name tf.placeholder is deprecated. Please use tf.compat.v1.placeholder instead.\n",
      "\n",
      "For layer 2 the preceding linear layer is 0 of type Conv1D;\n",
      "In accordance with nonlinear_mxts_mode=DeepLIFT_GenomicsDefault we are setting the NonlinearMxtsMode to Rescale\n",
      "Heads-up: current implementation assumes maxpool layer is followed by a linear transformation (conv/dense layer)\n",
      "For layer 7 the preceding linear layer is 5 of type Conv1D;\n",
      "In accordance with nonlinear_mxts_mode=DeepLIFT_GenomicsDefault we are setting the NonlinearMxtsMode to Rescale\n",
      "Heads-up: current implementation assumes maxpool layer is followed by a linear transformation (conv/dense layer)\n",
      "For layer 12 the preceding linear layer is 10 of type Conv1D;\n",
      "In accordance with nonlinear_mxts_mode=DeepLIFT_GenomicsDefault we are setting the NonlinearMxtsMode to Rescale\n",
      "For layer 16 the preceding linear layer is 15 of type Dense;\n",
      "In accordance with nonlinear_mxts_modeDeepLIFT_GenomicsDefault we are setting the NonlinearMxtsMode to RevealCancel\n",
      "Heads-up: I assume sigmoid is the output layer, not an intermediate one; if it's an intermediate layer then please bug me and I will implement the grad func\n",
      "For layer 18 the preceding linear layer is 17 of type Dense;\n",
      "In accordance with nonlinear_mxts_modeDeepLIFT_GenomicsDefault we are setting the NonlinearMxtsMode to RevealCancel\n",
      "TARGET LAYER SET TO 17\n",
      "WARNING:tensorflow:From /gpfs/data01/glasslab/home/zes017/.conda/envs/zs-deeplift/lib/python3.7/site-packages/deeplift/layers/core.py:455: The name tf.variables_initializer is deprecated. Please use tf.compat.v1.variables_initializer instead.\n",
      "\n",
      "WARNING:tensorflow:From /gpfs/data01/glasslab/home/zes017/.conda/envs/zs-deeplift/lib/python3.7/site-packages/deeplift/layers/core.py:471: The name tf.assign is deprecated. Please use tf.compat.v1.assign instead.\n",
      "\n",
      "WARNING:tensorflow:From /gpfs/data01/glasslab/home/zes017/.conda/envs/zs-deeplift/lib/python3.7/site-packages/deeplift/layers/core.py:473: The name tf.scatter_update is deprecated. Please use tf.compat.v1.scatter_update instead.\n",
      "\n"
     ]
    }
   ],
   "source": [
    "keras_model_weights = \"../../new_project/tmp/IL4_modelWeights.h5\"\n",
    "keras_model_json = \"../../new_project/tmp/IL4_modelJson_tmp.json\"\n",
    "\n",
    "keras_model = model_from_json(open(keras_model_json).read())\n",
    "keras_model.load_weights(keras_model_weights)\n",
    "\n",
    "nonlinear_mxts_mode = NonlinearMxtsMode.DeepLIFT_GenomicsDefault\n",
    "deeplift_method = kc.convert_model_from_saved_files(\n",
    "            h5_file=keras_model_weights,\n",
    "            json_file=keras_model_json,\n",
    "            nonlinear_mxts_mode=nonlinear_mxts_mode)\n",
    "scoring_func = deeplift_method.get_target_contribs_func(find_scores_layer_idx=0, target_layer_idx=-2)"
   ]
  },
  {
   "cell_type": "markdown",
   "metadata": {},
   "source": [
    "## Specify reference and compute importance"
   ]
  },
  {
   "cell_type": "code",
   "execution_count": 21,
   "metadata": {
    "scrolled": true
   },
   "outputs": [
    {
     "name": "stdout",
     "output_type": "stream",
     "text": [
      "Done 0\n",
      "Done 16000\n",
      "Done 32000\n"
     ]
    }
   ],
   "source": [
    "batch_size = 128\n",
    "background = OrderedDict([('A', 0.25), ('C', 0.25), ('G', 0.25), ('T', 0.25)])\n",
    "scores = np.array(scoring_func(task_idx=0, input_data_list=[x_vis], batch_size=batch_size, \n",
    "                               input_references_list=[np.array([background['A'], \n",
    "                                                                background['C'], \n",
    "                                                                background['G'], \n",
    "                                                                background['T']])[None,None,:]],\n",
    "                               progress_update=1000))\n",
    "scores = np.sum(scores, axis=2)"
   ]
  },
  {
   "cell_type": "markdown",
   "metadata": {},
   "source": [
    "## Get nucleotide-level max importance from original and reverse compliment sequences"
   ]
  },
  {
   "cell_type": "code",
   "execution_count": 22,
   "metadata": {},
   "outputs": [
    {
     "data": {
      "text/plain": [
       "(21659, 300)"
      ]
     },
     "execution_count": 22,
     "metadata": {},
     "output_type": "execute_result"
    }
   ],
   "source": [
    "weights = []\n",
    "for sample_index in range(len(scores)//2):\n",
    "    sample_scores = np.array([scores[sample_index*2], scores[sample_index*2+1][::-1]])\n",
    "    sample_score = np.array([sample_scores[j,i] for i,j in enumerate(np.argmax(np.absolute(sample_scores), axis=0))])\n",
    "    weights.append(sample_score)\n",
    "weights = np.array(weights)\n",
    "weights.shape"
   ]
  },
  {
   "cell_type": "code",
   "execution_count": 23,
   "metadata": {},
   "outputs": [
    {
     "name": "stdout",
     "output_type": "stream",
     "text": [
      "(21659, 300)\n"
     ]
    }
   ],
   "source": [
    "proc_range = 1\n",
    "smooth_weights = np.array([[np.mean(np.abs(w[max(0, i-proc_range):min(len(w), i+proc_range+1)]))\n",
    "                         for i in range(len(w))] for w in weights])\n",
    "print(smooth_weights.shape)"
   ]
  },
  {
   "cell_type": "markdown",
   "metadata": {},
   "source": [
    "# Visualize importance scores for individual site"
   ]
  },
  {
   "cell_type": "code",
   "execution_count": 24,
   "metadata": {},
   "outputs": [],
   "source": [
    "import seaborn as sns\n",
    "import matplotlib.pyplot as plt"
   ]
  },
  {
   "cell_type": "code",
   "execution_count": 37,
   "metadata": {
    "scrolled": false
   },
   "outputs": [
    {
     "data": {
      "image/png": "[encoded data removed]",
      "text/plain": [
       "<Figure size 1224x230.4 with 1 Axes>"
      ]
     },
     "metadata": {},
     "output_type": "display_data"
    }
   ],
   "source": [
    "s = 'chr5_140648065_140648415_C57' #sequence ID in FASTA file\n",
    "\n",
    "sns.set(style='white', font_scale=1.5)\n",
    "plt.figure(figsize=(17,3.2))\n",
    "w = np.abs(smooth_weights[np.array(pos_data)[:,-1] == s][0])\n",
    "plt.scatter(np.arange(len(w)), w, s=60, c='#3A90E3',zorder=10)\n",
    "plt.axhline(np.sort(w)[240], c='orangered', linestyle='--', linewidth=3)\n",
    "plt.xlim(0,300)\n",
    "plt.xlabel('position')\n",
    "plt.ylabel('abs. DeepLIFT score')\n",
    "sns.despine(top=True, bottom=True)\n",
    "plt.tight_layout()"
   ]
  },
  {
   "cell_type": "code",
   "execution_count": null,
   "metadata": {},
   "outputs": [],
   "source": []
  }
 ],
 "metadata": {
  "kernelspec": {
   "display_name": "Python 3",
   "language": "python",
   "name": "python3"
  },
  "language_info": {
   "codemirror_mode": {
    "name": "ipython",
    "version": 3
   },
   "file_extension": ".py",
   "mimetype": "text/x-python",
   "name": "python",
   "nbconvert_exporter": "python",
   "pygments_lexer": "ipython3",
   "version": "3.7.4"
  }
 },
 "nbformat": 4,
 "nbformat_minor": 2
}
